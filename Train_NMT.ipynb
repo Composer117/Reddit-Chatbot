{
  "nbformat": 4,
  "nbformat_minor": 0,
  "metadata": {
    "colab": {
      "name": "Train-NMT",
      "version": "0.3.2",
      "provenance": [],
      "collapsed_sections": [],
      "include_colab_link": true
    },
    "kernelspec": {
      "name": "python3",
      "display_name": "Python 3"
    },
    "accelerator": "GPU"
  },
  "cells": [
    {
      "cell_type": "markdown",
      "metadata": {
        "id": "view-in-github",
        "colab_type": "text"
      },
      "source": [
        "<a href=\"https://colab.research.google.com/github/Composer117/Reddit-Chatbot/blob/master/Train_NMT.ipynb\" target=\"_parent\"><img src=\"https://colab.research.google.com/assets/colab-badge.svg\" alt=\"Open In Colab\"/></a>"
      ]
    },
    {
      "metadata": {
        "id": "itDtQ3DmsZit",
        "colab_type": "code",
        "outputId": "d50a30f9-59f6-4ade-a4aa-52883e1d9168",
        "colab": {
          "base_uri": "https://localhost:8080/",
          "height": 35
        }
      },
      "cell_type": "code",
      "source": [
        "!ls"
      ],
      "execution_count": 45,
      "outputs": [
        {
          "output_type": "stream",
          "text": [
            "adc.json  nmt-chatbot  sample_data\n"
          ],
          "name": "stdout"
        }
      ]
    },
    {
      "metadata": {
        "id": "dI8C2Jm8syhQ",
        "colab_type": "code",
        "outputId": "846b0c32-c210-4de7-9607-a8f6392ef4d2",
        "colab": {
          "base_uri": "https://localhost:8080/",
          "height": 35
        }
      },
      "cell_type": "code",
      "source": [
        "!git clone --branch v0.1 --recursive https://github.com/daniel-kukiela/nmt-chatbot.git"
      ],
      "execution_count": 46,
      "outputs": [
        {
          "output_type": "stream",
          "text": [
            "fatal: destination path 'nmt-chatbot' already exists and is not an empty directory.\n"
          ],
          "name": "stdout"
        }
      ]
    },
    {
      "metadata": {
        "id": "uLZMEgmOtjSe",
        "colab_type": "code",
        "outputId": "aa8dfce3-0829-48b0-885a-de24b906964a",
        "colab": {
          "base_uri": "https://localhost:8080/",
          "height": 35
        }
      },
      "cell_type": "code",
      "source": [
        "%cd nmt-chatbot"
      ],
      "execution_count": 47,
      "outputs": [
        {
          "output_type": "stream",
          "text": [
            "/content/nmt-chatbot\n"
          ],
          "name": "stdout"
        }
      ]
    },
    {
      "metadata": {
        "id": "_03ugkaquLhe",
        "colab_type": "code",
        "outputId": "693d7525-e19e-4185-ef02-2ba84dd6b808",
        "colab": {
          "base_uri": "https://localhost:8080/",
          "height": 70
        }
      },
      "cell_type": "code",
      "source": [
        "!ls"
      ],
      "execution_count": 0,
      "outputs": [
        {
          "output_type": "stream",
          "text": [
            "core\t      LICENSE\tREADME.md\t  setup     utils\n",
            "inference.py  new_data\trequirements.txt  tests\n",
            "__init__.py   nmt\tsentdex_lab\t  train.py\n"
          ],
          "name": "stdout"
        }
      ]
    },
    {
      "metadata": {
        "id": "bNmlvnw4u2Hs",
        "colab_type": "code",
        "outputId": "7e479b25-560e-4470-dc86-a3a03bf25add",
        "colab": {
          "base_uri": "https://localhost:8080/",
          "height": 446
        }
      },
      "cell_type": "code",
      "source": [
        "!pip install -r requirements.txt"
      ],
      "execution_count": 82,
      "outputs": [
        {
          "output_type": "stream",
          "text": [
            "Requirement already satisfied: tensorflow-gpu>=1.4.0 in /usr/local/lib/python3.6/dist-packages (from -r requirements.txt (line 1)) (1.13.1)\n",
            "Requirement already satisfied: tqdm in /usr/local/lib/python3.6/dist-packages (from -r requirements.txt (line 2)) (4.28.1)\n",
            "Requirement already satisfied: colorama in /usr/local/lib/python3.6/dist-packages (from -r requirements.txt (line 3)) (0.4.1)\n",
            "Requirement already satisfied: regex in /usr/local/lib/python3.6/dist-packages (from -r requirements.txt (line 4)) (2018.1.10)\n",
            "Requirement already satisfied: gast>=0.2.0 in /usr/local/lib/python3.6/dist-packages (from tensorflow-gpu>=1.4.0->-r requirements.txt (line 1)) (0.2.2)\n",
            "Requirement already satisfied: protobuf>=3.6.1 in /usr/local/lib/python3.6/dist-packages (from tensorflow-gpu>=1.4.0->-r requirements.txt (line 1)) (3.7.0)\n",
            "Requirement already satisfied: tensorflow-estimator<1.14.0rc0,>=1.13.0 in /usr/local/lib/python3.6/dist-packages (from tensorflow-gpu>=1.4.0->-r requirements.txt (line 1)) (1.13.0)\n",
            "Requirement already satisfied: keras-preprocessing>=1.0.5 in /usr/local/lib/python3.6/dist-packages (from tensorflow-gpu>=1.4.0->-r requirements.txt (line 1)) (1.0.9)\n",
            "Requirement already satisfied: numpy>=1.13.3 in /usr/local/lib/python3.6/dist-packages (from tensorflow-gpu>=1.4.0->-r requirements.txt (line 1)) (1.14.6)\n",
            "Requirement already satisfied: grpcio>=1.8.6 in /usr/local/lib/python3.6/dist-packages (from tensorflow-gpu>=1.4.0->-r requirements.txt (line 1)) (1.15.0)\n",
            "Requirement already satisfied: astor>=0.6.0 in /usr/local/lib/python3.6/dist-packages (from tensorflow-gpu>=1.4.0->-r requirements.txt (line 1)) (0.7.1)\n",
            "Requirement already satisfied: six>=1.10.0 in /usr/local/lib/python3.6/dist-packages (from tensorflow-gpu>=1.4.0->-r requirements.txt (line 1)) (1.11.0)\n",
            "Requirement already satisfied: tensorboard<1.14.0,>=1.13.0 in /usr/local/lib/python3.6/dist-packages (from tensorflow-gpu>=1.4.0->-r requirements.txt (line 1)) (1.13.1)\n",
            "Requirement already satisfied: termcolor>=1.1.0 in /usr/local/lib/python3.6/dist-packages (from tensorflow-gpu>=1.4.0->-r requirements.txt (line 1)) (1.1.0)\n",
            "Requirement already satisfied: wheel>=0.26 in /usr/local/lib/python3.6/dist-packages (from tensorflow-gpu>=1.4.0->-r requirements.txt (line 1)) (0.33.1)\n",
            "Requirement already satisfied: absl-py>=0.1.6 in /usr/local/lib/python3.6/dist-packages (from tensorflow-gpu>=1.4.0->-r requirements.txt (line 1)) (0.7.0)\n",
            "Requirement already satisfied: keras-applications>=1.0.6 in /usr/local/lib/python3.6/dist-packages (from tensorflow-gpu>=1.4.0->-r requirements.txt (line 1)) (1.0.7)\n",
            "Requirement already satisfied: setuptools in /usr/local/lib/python3.6/dist-packages (from protobuf>=3.6.1->tensorflow-gpu>=1.4.0->-r requirements.txt (line 1)) (40.8.0)\n",
            "Requirement already satisfied: mock>=2.0.0 in /usr/local/lib/python3.6/dist-packages (from tensorflow-estimator<1.14.0rc0,>=1.13.0->tensorflow-gpu>=1.4.0->-r requirements.txt (line 1)) (2.0.0)\n",
            "Requirement already satisfied: markdown>=2.6.8 in /usr/local/lib/python3.6/dist-packages (from tensorboard<1.14.0,>=1.13.0->tensorflow-gpu>=1.4.0->-r requirements.txt (line 1)) (3.0.1)\n",
            "Requirement already satisfied: werkzeug>=0.11.15 in /usr/local/lib/python3.6/dist-packages (from tensorboard<1.14.0,>=1.13.0->tensorflow-gpu>=1.4.0->-r requirements.txt (line 1)) (0.14.1)\n",
            "Requirement already satisfied: h5py in /usr/local/lib/python3.6/dist-packages (from keras-applications>=1.0.6->tensorflow-gpu>=1.4.0->-r requirements.txt (line 1)) (2.8.0)\n",
            "Requirement already satisfied: pbr>=0.11 in /usr/local/lib/python3.6/dist-packages (from mock>=2.0.0->tensorflow-estimator<1.14.0rc0,>=1.13.0->tensorflow-gpu>=1.4.0->-r requirements.txt (line 1)) (5.1.3)\n"
          ],
          "name": "stdout"
        }
      ]
    },
    {
      "metadata": {
        "id": "WfG5qaA6u-5c",
        "colab_type": "code",
        "outputId": "160ee8dd-ba0e-4306-fc91-0c031c045513",
        "colab": {
          "base_uri": "https://localhost:8080/",
          "height": 70
        }
      },
      "cell_type": "code",
      "source": [
        "!ls"
      ],
      "execution_count": 0,
      "outputs": [
        {
          "output_type": "stream",
          "text": [
            "core\t      LICENSE\tREADME.md\t  setup     utils\n",
            "inference.py  new_data\trequirements.txt  tests\n",
            "__init__.py   nmt\tsentdex_lab\t  train.py\n"
          ],
          "name": "stdout"
        }
      ]
    },
    {
      "metadata": {
        "id": "m9v8ROTdvPiM",
        "colab_type": "code",
        "outputId": "9cb33985-8a6c-4eb1-f07b-37e56132da1d",
        "colab": {
          "base_uri": "https://localhost:8080/",
          "height": 35
        }
      },
      "cell_type": "code",
      "source": [
        "%cd setup"
      ],
      "execution_count": 0,
      "outputs": [
        {
          "output_type": "stream",
          "text": [
            "/content/nmt-chatbot/setup\n"
          ],
          "name": "stdout"
        }
      ]
    },
    {
      "metadata": {
        "id": "OAMvBZKBwMCr",
        "colab_type": "code",
        "outputId": "25a04bd4-afd4-4f1c-8618-318eefcef30d",
        "colab": {
          "base_uri": "https://localhost:8080/",
          "height": 70
        }
      },
      "cell_type": "code",
      "source": [
        "!ls"
      ],
      "execution_count": 0,
      "outputs": [
        {
          "output_type": "stream",
          "text": [
            "answers_blacklist.txt\t__init__.py\t       settings.py\n",
            "answers_detokenize.txt\tprepare_data.py        vocab_blacklist.txt\n",
            "answers_replace.txt\tprotected_phrases.txt  vocab_replace.txt\n"
          ],
          "name": "stdout"
        }
      ]
    },
    {
      "metadata": {
        "id": "nJNDVlPwwNvZ",
        "colab_type": "code",
        "colab": {}
      },
      "cell_type": "code",
      "source": [
        "!cat settings.py"
      ],
      "execution_count": 0,
      "outputs": []
    },
    {
      "metadata": {
        "id": "AtPXQ1wzwVtD",
        "colab_type": "code",
        "outputId": "9974d833-569e-446a-d383-34949c532ff3",
        "colab": {
          "base_uri": "https://localhost:8080/",
          "height": 35
        }
      },
      "cell_type": "code",
      "source": [
        "%cd .."
      ],
      "execution_count": 0,
      "outputs": [
        {
          "output_type": "stream",
          "text": [
            "/content/nmt-chatbot\n"
          ],
          "name": "stdout"
        }
      ]
    },
    {
      "metadata": {
        "id": "pBebU2L4zYKx",
        "colab_type": "code",
        "outputId": "00568603-548d-4fdd-8502-c02d69460d91",
        "colab": {
          "base_uri": "https://localhost:8080/",
          "height": 35
        }
      },
      "cell_type": "code",
      "source": [
        "%cd new_data"
      ],
      "execution_count": 0,
      "outputs": [
        {
          "output_type": "stream",
          "text": [
            "/content/nmt-chatbot/new_data\n"
          ],
          "name": "stdout"
        }
      ]
    },
    {
      "metadata": {
        "id": "aNLbwS28zdoM",
        "colab_type": "code",
        "outputId": "25d89b4b-1855-4331-ed41-72c32cea8266",
        "colab": {
          "base_uri": "https://localhost:8080/",
          "height": 52
        }
      },
      "cell_type": "code",
      "source": [
        "!ls"
      ],
      "execution_count": 0,
      "outputs": [
        {
          "output_type": "stream",
          "text": [
            "bin   content  dev  home  lib32  media\topt   root  sbin  swift  tmp\tusr\n",
            "boot  datalab  etc  lib   lib64  mnt\tproc  run   srv   sys\t tools\tvar\n"
          ],
          "name": "stdout"
        }
      ]
    },
    {
      "metadata": {
        "id": "Yp1XmkzR0Wpz",
        "colab_type": "code",
        "outputId": "2f48adee-34da-4576-cdbd-d73eee4987f8",
        "colab": {
          "base_uri": "https://localhost:8080/",
          "height": 35
        }
      },
      "cell_type": "code",
      "source": [
        "%cd .."
      ],
      "execution_count": 0,
      "outputs": [
        {
          "output_type": "stream",
          "text": [
            "/\n"
          ],
          "name": "stdout"
        }
      ]
    },
    {
      "metadata": {
        "id": "dzf7T4Lo1Lsx",
        "colab_type": "code",
        "outputId": "62c15c6e-27ca-4cc3-f4cc-2a17f9e9d502",
        "colab": {
          "base_uri": "https://localhost:8080/",
          "height": 52
        }
      },
      "cell_type": "code",
      "source": [
        "!ls"
      ],
      "execution_count": 0,
      "outputs": [
        {
          "output_type": "stream",
          "text": [
            "bin   content  dev  home  lib32  media\topt   root  sbin  swift  tmp\tusr\n",
            "boot  datalab  etc  lib   lib64  mnt\tproc  run   srv   sys\t tools\tvar\n"
          ],
          "name": "stdout"
        }
      ]
    },
    {
      "metadata": {
        "id": "2CLSoIj02UyW",
        "colab_type": "code",
        "outputId": "0c3d3866-5b35-4c1e-aa0a-f3794f780f55",
        "colab": {
          "base_uri": "https://localhost:8080/",
          "height": 35
        }
      },
      "cell_type": "code",
      "source": [
        "%cd content"
      ],
      "execution_count": 0,
      "outputs": [
        {
          "output_type": "stream",
          "text": [
            "/content\n"
          ],
          "name": "stdout"
        }
      ]
    },
    {
      "metadata": {
        "id": "Xao_GjKE2YlJ",
        "colab_type": "code",
        "outputId": "694c4dc9-428e-4a98-eb22-342da87b5107",
        "colab": {
          "base_uri": "https://localhost:8080/",
          "height": 35
        }
      },
      "cell_type": "code",
      "source": [
        "!ls"
      ],
      "execution_count": 0,
      "outputs": [
        {
          "output_type": "stream",
          "text": [
            "nmt-chatbot  sample_data\n"
          ],
          "name": "stdout"
        }
      ]
    },
    {
      "metadata": {
        "id": "vTjpC31j2f2i",
        "colab_type": "code",
        "outputId": "b507a7c0-05b7-460e-fdcc-3548ad597b19",
        "colab": {
          "base_uri": "https://localhost:8080/",
          "height": 35
        }
      },
      "cell_type": "code",
      "source": [
        "!ls"
      ],
      "execution_count": 0,
      "outputs": [
        {
          "output_type": "stream",
          "text": [
            "nmt-chatbot  sample_data  train.from\n"
          ],
          "name": "stdout"
        }
      ]
    },
    {
      "metadata": {
        "id": "FCgIBPpU2hRt",
        "colab_type": "code",
        "colab": {}
      },
      "cell_type": "code",
      "source": [
        "!rm train.from"
      ],
      "execution_count": 0,
      "outputs": []
    },
    {
      "metadata": {
        "id": "ymz3Kw3AGjXc",
        "colab_type": "code",
        "outputId": "4e36de14-c63c-4cc6-8ec1-0bd00be7230e",
        "colab": {
          "base_uri": "https://localhost:8080/",
          "height": 35
        }
      },
      "cell_type": "code",
      "source": [
        "!ls"
      ],
      "execution_count": 0,
      "outputs": [
        {
          "output_type": "stream",
          "text": [
            "nmt-chatbot  sample_data\n"
          ],
          "name": "stdout"
        }
      ]
    },
    {
      "metadata": {
        "id": "QLqxG1Q9GleX",
        "colab_type": "code",
        "outputId": "e42e95aa-626a-43e3-a400-64d91f092f8e",
        "colab": {
          "base_uri": "https://localhost:8080/",
          "height": 337
        }
      },
      "cell_type": "code",
      "source": [
        "!pip install PyDrive"
      ],
      "execution_count": 0,
      "outputs": [
        {
          "output_type": "stream",
          "text": [
            "Collecting PyDrive\n",
            "\u001b[?25l  Downloading https://files.pythonhosted.org/packages/52/e0/0e64788e5dd58ce2d6934549676243dc69d982f198524be9b99e9c2a4fd5/PyDrive-1.3.1.tar.gz (987kB)\n",
            "\u001b[K    100% |████████████████████████████████| 993kB 15.1MB/s \n",
            "\u001b[?25hRequirement already satisfied: google-api-python-client>=1.2 in /usr/local/lib/python3.6/dist-packages (from PyDrive) (1.6.7)\n",
            "Requirement already satisfied: oauth2client>=4.0.0 in /usr/local/lib/python3.6/dist-packages (from PyDrive) (4.1.3)\n",
            "Requirement already satisfied: PyYAML>=3.0 in /usr/local/lib/python3.6/dist-packages (from PyDrive) (3.13)\n",
            "Requirement already satisfied: six<2dev,>=1.6.1 in /usr/local/lib/python3.6/dist-packages (from google-api-python-client>=1.2->PyDrive) (1.11.0)\n",
            "Requirement already satisfied: httplib2<1dev,>=0.9.2 in /usr/local/lib/python3.6/dist-packages (from google-api-python-client>=1.2->PyDrive) (0.11.3)\n",
            "Requirement already satisfied: uritemplate<4dev,>=3.0.0 in /usr/local/lib/python3.6/dist-packages (from google-api-python-client>=1.2->PyDrive) (3.0.0)\n",
            "Requirement already satisfied: pyasn1>=0.1.7 in /usr/local/lib/python3.6/dist-packages (from oauth2client>=4.0.0->PyDrive) (0.4.5)\n",
            "Requirement already satisfied: pyasn1-modules>=0.0.5 in /usr/local/lib/python3.6/dist-packages (from oauth2client>=4.0.0->PyDrive) (0.2.4)\n",
            "Requirement already satisfied: rsa>=3.1.4 in /usr/local/lib/python3.6/dist-packages (from oauth2client>=4.0.0->PyDrive) (4.0)\n",
            "Building wheels for collected packages: PyDrive\n",
            "  Building wheel for PyDrive (setup.py) ... \u001b[?25ldone\n",
            "\u001b[?25h  Stored in directory: /root/.cache/pip/wheels/fa/d2/9a/d3b6b506c2da98289e5d417215ce34b696db856643bad779f4\n",
            "Successfully built PyDrive\n",
            "Installing collected packages: PyDrive\n",
            "Successfully installed PyDrive-1.3.1\n"
          ],
          "name": "stdout"
        }
      ]
    },
    {
      "metadata": {
        "id": "z2bnPxoeGqvC",
        "colab_type": "code",
        "colab": {}
      },
      "cell_type": "code",
      "source": [
        "import os\n",
        "from pydrive.auth import GoogleAuth\n",
        "from pydrive.drive import GoogleDrive\n",
        "from google.colab import auth\n",
        "from oauth2client.client import GoogleCredentials"
      ],
      "execution_count": 0,
      "outputs": []
    },
    {
      "metadata": {
        "id": "dt05WfFTGyJw",
        "colab_type": "code",
        "colab": {}
      },
      "cell_type": "code",
      "source": [
        "auth.authenticate_user()\n",
        "gauth = GoogleAuth()\n",
        "gauth.credentials = GoogleCredentials.get_application_default()\n",
        "drive = GoogleDrive(gauth)"
      ],
      "execution_count": 0,
      "outputs": []
    },
    {
      "metadata": {
        "id": "G8yMOi46G5kA",
        "colab_type": "code",
        "colab": {}
      },
      "cell_type": "code",
      "source": [
        "download = drive.CreateFile({'id': '1KV2Mbqvm5SSmuN5z5IGnPmXyIrdCiNIK'})\n",
        "download.GetContentFile('Dataset.tar')"
      ],
      "execution_count": 0,
      "outputs": []
    },
    {
      "metadata": {
        "id": "0A0vmLQFHtiI",
        "colab_type": "code",
        "outputId": "af3948dd-3fdf-4074-9bb1-8edc3f82cd11",
        "colab": {
          "base_uri": "https://localhost:8080/",
          "height": 70
        }
      },
      "cell_type": "code",
      "source": [
        "!ls"
      ],
      "execution_count": 52,
      "outputs": [
        {
          "output_type": "stream",
          "text": [
            "core\t      __init__.py  nmt\t\t     sentdex_lab  train.py\n",
            "Dataset.tar   LICENSE\t   README.md\t     setup\t  utils\n",
            "inference.py  new_data\t   requirements.txt  tests\n"
          ],
          "name": "stdout"
        }
      ]
    },
    {
      "metadata": {
        "id": "t6ttpXSKzhd6",
        "colab_type": "code",
        "colab": {
          "base_uri": "https://localhost:8080/",
          "height": 35
        },
        "outputId": "b98526c7-73da-4034-bb73-a9e5a2c2974a"
      },
      "cell_type": "code",
      "source": [
        "%cd .."
      ],
      "execution_count": 53,
      "outputs": [
        {
          "output_type": "stream",
          "text": [
            "/content\n"
          ],
          "name": "stdout"
        }
      ]
    },
    {
      "metadata": {
        "id": "ffy2OSv8DiE1",
        "colab_type": "code",
        "colab": {
          "base_uri": "https://localhost:8080/",
          "height": 52
        },
        "outputId": "6d8ec5f6-d455-4f3f-c0a6-3e370d67c17a"
      },
      "cell_type": "code",
      "source": [
        "%cd content"
      ],
      "execution_count": 54,
      "outputs": [
        {
          "output_type": "stream",
          "text": [
            "[Errno 2] No such file or directory: 'content'\n",
            "/content\n"
          ],
          "name": "stdout"
        }
      ]
    },
    {
      "metadata": {
        "id": "Y9pPdpKyDuYa",
        "colab_type": "code",
        "colab": {
          "base_uri": "https://localhost:8080/",
          "height": 35
        },
        "outputId": "79419513-196c-42b7-ef82-32d0adac76d8"
      },
      "cell_type": "code",
      "source": [
        "!ls"
      ],
      "execution_count": 55,
      "outputs": [
        {
          "output_type": "stream",
          "text": [
            "adc.json  nmt-chatbot  sample_data\n"
          ],
          "name": "stdout"
        }
      ]
    },
    {
      "metadata": {
        "id": "SW1JIBHuDwUn",
        "colab_type": "code",
        "colab": {
          "base_uri": "https://localhost:8080/",
          "height": 35
        },
        "outputId": "820f0fed-be7a-40af-df6d-2343c56edf28"
      },
      "cell_type": "code",
      "source": [
        "%cd nmt-chatbot"
      ],
      "execution_count": 56,
      "outputs": [
        {
          "output_type": "stream",
          "text": [
            "/content/nmt-chatbot\n"
          ],
          "name": "stdout"
        }
      ]
    },
    {
      "metadata": {
        "id": "R3FNt_VzD2An",
        "colab_type": "code",
        "colab": {
          "base_uri": "https://localhost:8080/",
          "height": 70
        },
        "outputId": "b908efa4-47fe-41a6-f00c-0c8adcedb9df"
      },
      "cell_type": "code",
      "source": [
        "!ls"
      ],
      "execution_count": 57,
      "outputs": [
        {
          "output_type": "stream",
          "text": [
            "core\t      __init__.py  nmt\t\t     sentdex_lab  train.py\n",
            "Dataset.tar   LICENSE\t   README.md\t     setup\t  utils\n",
            "inference.py  new_data\t   requirements.txt  tests\n"
          ],
          "name": "stdout"
        }
      ]
    },
    {
      "metadata": {
        "id": "DKG8I6vOD3dF",
        "colab_type": "code",
        "colab": {}
      },
      "cell_type": "code",
      "source": [
        "!mkdir Dataset_og"
      ],
      "execution_count": 0,
      "outputs": []
    },
    {
      "metadata": {
        "id": "OM4YUkFXEbYZ",
        "colab_type": "code",
        "colab": {
          "base_uri": "https://localhost:8080/",
          "height": 70
        },
        "outputId": "da3b6142-4dde-4d50-c65a-625e5b8d1e8b"
      },
      "cell_type": "code",
      "source": [
        "!ls"
      ],
      "execution_count": 59,
      "outputs": [
        {
          "output_type": "stream",
          "text": [
            "core\t     inference.py  new_data   requirements.txt\ttests\n",
            "Dataset_og   __init__.py   nmt\t      sentdex_lab\ttrain.py\n",
            "Dataset.tar  LICENSE\t   README.md  setup\t\tutils\n"
          ],
          "name": "stdout"
        }
      ]
    },
    {
      "metadata": {
        "id": "--aCl2IvEj3I",
        "colab_type": "code",
        "colab": {}
      },
      "cell_type": "code",
      "source": [
        "!mv ./Dataset.tar ./Dataset_og/"
      ],
      "execution_count": 0,
      "outputs": []
    },
    {
      "metadata": {
        "id": "FOldBL6pFRL9",
        "colab_type": "code",
        "colab": {
          "base_uri": "https://localhost:8080/",
          "height": 70
        },
        "outputId": "ace88c65-a6d9-45be-dcb0-872f7d62630a"
      },
      "cell_type": "code",
      "source": [
        "!ls\n"
      ],
      "execution_count": 61,
      "outputs": [
        {
          "output_type": "stream",
          "text": [
            "core\t      __init__.py  nmt\t\t     sentdex_lab  train.py\n",
            "Dataset_og    LICENSE\t   README.md\t     setup\t  utils\n",
            "inference.py  new_data\t   requirements.txt  tests\n"
          ],
          "name": "stdout"
        }
      ]
    },
    {
      "metadata": {
        "id": "MZBwbcG_FUUM",
        "colab_type": "code",
        "colab": {
          "base_uri": "https://localhost:8080/",
          "height": 35
        },
        "outputId": "c00c70e9-5050-4561-dc7c-50242f28ab01"
      },
      "cell_type": "code",
      "source": [
        "%cd Dataset_og"
      ],
      "execution_count": 63,
      "outputs": [
        {
          "output_type": "stream",
          "text": [
            "/content/nmt-chatbot/Dataset_og\n"
          ],
          "name": "stdout"
        }
      ]
    },
    {
      "metadata": {
        "id": "jI5IZLA7FYsk",
        "colab_type": "code",
        "colab": {
          "base_uri": "https://localhost:8080/",
          "height": 52
        },
        "outputId": "2356e11b-5153-4775-d92b-adc16c50aad5"
      },
      "cell_type": "code",
      "source": [
        "!tar -xvf Dataset.tar"
      ],
      "execution_count": 65,
      "outputs": [
        {
          "output_type": "stream",
          "text": [
            "train.from\n",
            "train.to\n"
          ],
          "name": "stdout"
        }
      ]
    },
    {
      "metadata": {
        "id": "1aHdEMctFtVj",
        "colab_type": "code",
        "colab": {
          "base_uri": "https://localhost:8080/",
          "height": 35
        },
        "outputId": "e219481e-5a3e-4b4d-b2e7-748819835572"
      },
      "cell_type": "code",
      "source": [
        "!ls"
      ],
      "execution_count": 66,
      "outputs": [
        {
          "output_type": "stream",
          "text": [
            "Dataset.tar  train.from  train.to\n"
          ],
          "name": "stdout"
        }
      ]
    },
    {
      "metadata": {
        "id": "Ib6MQOGHF32h",
        "colab_type": "code",
        "colab": {}
      },
      "cell_type": "code",
      "source": [
        "!cp -rf ./train.from /content/nmt-chatbot/new_data/train.from"
      ],
      "execution_count": 0,
      "outputs": []
    },
    {
      "metadata": {
        "id": "JjxqYQSXH82a",
        "colab_type": "code",
        "colab": {}
      },
      "cell_type": "code",
      "source": [
        "!cp -rf ./train.to /content/nmt-chatbot/new_data/train.to"
      ],
      "execution_count": 0,
      "outputs": []
    },
    {
      "metadata": {
        "id": "aQzwFLW2ILPC",
        "colab_type": "code",
        "colab": {
          "base_uri": "https://localhost:8080/",
          "height": 35
        },
        "outputId": "63ddf7b8-9478-4bc1-86a6-806f55f6ca8c"
      },
      "cell_type": "code",
      "source": [
        "%cd /content/nmt-chatbot/"
      ],
      "execution_count": 70,
      "outputs": [
        {
          "output_type": "stream",
          "text": [
            "/content/nmt-chatbot\n"
          ],
          "name": "stdout"
        }
      ]
    },
    {
      "metadata": {
        "id": "q49twMSXIQ12",
        "colab_type": "code",
        "colab": {
          "base_uri": "https://localhost:8080/",
          "height": 70
        },
        "outputId": "4cdc0e38-42c4-4a55-9de0-ecbcd2855432"
      },
      "cell_type": "code",
      "source": [
        "!ls"
      ],
      "execution_count": 71,
      "outputs": [
        {
          "output_type": "stream",
          "text": [
            "core\t      __init__.py  nmt\t\t     sentdex_lab  train.py\n",
            "Dataset_og    LICENSE\t   README.md\t     setup\t  utils\n",
            "inference.py  new_data\t   requirements.txt  tests\n"
          ],
          "name": "stdout"
        }
      ]
    },
    {
      "metadata": {
        "id": "FVFY9-9lIS0q",
        "colab_type": "code",
        "colab": {
          "base_uri": "https://localhost:8080/",
          "height": 35
        },
        "outputId": "21fda5fb-e6bc-426b-fdd7-933d6127d00d"
      },
      "cell_type": "code",
      "source": [
        "%cd new_data"
      ],
      "execution_count": 72,
      "outputs": [
        {
          "output_type": "stream",
          "text": [
            "/content/nmt-chatbot/new_data\n"
          ],
          "name": "stdout"
        }
      ]
    },
    {
      "metadata": {
        "id": "VMdQo_3LIZt8",
        "colab_type": "code",
        "colab": {
          "base_uri": "https://localhost:8080/",
          "height": 159
        },
        "outputId": "6b4d89dc-0f1f-4430-eabd-76088cb55c62"
      },
      "cell_type": "code",
      "source": [
        "!ls -lh"
      ],
      "execution_count": 73,
      "outputs": [
        {
          "output_type": "stream",
          "text": [
            "total 536M\n",
            "-rw-r--r-- 1 root root   50 Mar 20 10:45 README.md\n",
            "-rw-r--r-- 1 root root 280M Mar 20 17:22 train.from\n",
            "-rw-r--r-- 1 root root 256M Mar 20 17:23 train.to\n",
            "-rw-r--r-- 1 root root 7.5K Mar 20 10:45 tst2012.from\n",
            "-rw-r--r-- 1 root root 6.3K Mar 20 10:45 tst2012.to\n",
            "-rw-r--r-- 1 root root 7.5K Mar 20 10:45 tst2013.from\n",
            "-rw-r--r-- 1 root root 6.3K Mar 20 10:45 tst2013.to\n"
          ],
          "name": "stdout"
        }
      ]
    },
    {
      "metadata": {
        "id": "5P-AMIWsImue",
        "colab_type": "code",
        "colab": {
          "base_uri": "https://localhost:8080/",
          "height": 35
        },
        "outputId": "d0d72f0c-0c9d-409b-85d5-ba1c50d221cd"
      },
      "cell_type": "code",
      "source": [
        "%cd .."
      ],
      "execution_count": 74,
      "outputs": [
        {
          "output_type": "stream",
          "text": [
            "/content/nmt-chatbot\n"
          ],
          "name": "stdout"
        }
      ]
    },
    {
      "metadata": {
        "id": "HAMVWsCJI89E",
        "colab_type": "code",
        "colab": {
          "base_uri": "https://localhost:8080/",
          "height": 35
        },
        "outputId": "a2ab5682-93dc-4b01-9035-ff77c64aa79d"
      },
      "cell_type": "code",
      "source": [
        "%cd setup "
      ],
      "execution_count": 76,
      "outputs": [
        {
          "output_type": "stream",
          "text": [
            "/content/nmt-chatbot/setup\n"
          ],
          "name": "stdout"
        }
      ]
    },
    {
      "metadata": {
        "id": "E0cmdRh6JQGH",
        "colab_type": "code",
        "colab": {
          "base_uri": "https://localhost:8080/",
          "height": 444
        },
        "outputId": "0b19699f-6174-4051-d72f-04947f83a1fb"
      },
      "cell_type": "code",
      "source": [
        "!python prepare_data.py"
      ],
      "execution_count": 78,
      "outputs": [
        {
          "output_type": "stream",
          "text": [
            "\n",
            "Preparing training set from raw set\n",
            "\n",
            "File: train.from (iteration = 10k lines)\n",
            "303it [01:52,  2.81it/s]\n",
            "\n",
            "File: vocab.from (saving vocab)\n",
            "\n",
            "File: tst2012.from (iteration = 10k lines)\n",
            "0it [00:00, ?it/s]\n",
            "\n",
            "File: tst2013.from (iteration = 10k lines)\n",
            "0it [00:00, ?it/s]\n",
            "\n",
            "File: train.to (iteration = 10k lines)\n",
            "303it [01:55,  2.71it/s]\n",
            "\n",
            "File: vocab.to (saving vocab)\n",
            "\n",
            "File: tst2012.to (iteration = 10k lines)\n",
            "0it [00:00, ?it/s]\n",
            "\n",
            "File: tst2013.to (iteration = 10k lines)\n",
            "0it [00:00, ?it/s]\n"
          ],
          "name": "stdout"
        }
      ]
    },
    {
      "metadata": {
        "id": "IYeb1oVJJV6S",
        "colab_type": "code",
        "colab": {
          "base_uri": "https://localhost:8080/",
          "height": 35
        },
        "outputId": "abbee824-4917-4086-bfc3-91f6c6a4df88"
      },
      "cell_type": "code",
      "source": [
        "%cd .."
      ],
      "execution_count": 79,
      "outputs": [
        {
          "output_type": "stream",
          "text": [
            "/content/nmt-chatbot\n"
          ],
          "name": "stdout"
        }
      ]
    },
    {
      "metadata": {
        "id": "9bHO-mixKpq8",
        "colab_type": "code",
        "colab": {
          "base_uri": "https://localhost:8080/",
          "height": 70
        },
        "outputId": "aeaec2a0-5104-4c78-91d7-9a3d1bf7f84f"
      },
      "cell_type": "code",
      "source": [
        "!ls"
      ],
      "execution_count": 80,
      "outputs": [
        {
          "output_type": "stream",
          "text": [
            "core\t    inference.py  model     README.md\t      setup\tutils\n",
            "data\t    __init__.py   new_data  requirements.txt  tests\n",
            "Dataset_og  LICENSE\t  nmt\t    sentdex_lab       train.py\n"
          ],
          "name": "stdout"
        }
      ]
    },
    {
      "metadata": {
        "id": "QsFo9UtsKsqk",
        "colab_type": "code",
        "colab": {}
      },
      "cell_type": "code",
      "source": [
        "!python "
      ],
      "execution_count": 0,
      "outputs": []
    },
    {
      "metadata": {
        "id": "rSxArILyK0ji",
        "colab_type": "code",
        "colab": {}
      },
      "cell_type": "code",
      "source": [
        "!python train.py"
      ],
      "execution_count": 0,
      "outputs": []
    },
    {
      "metadata": {
        "id": "xBJ0VMBILP6M",
        "colab_type": "code",
        "colab": {}
      },
      "cell_type": "code",
      "source": [
        "!pip install --upgrade tensorflow-gpu==1.4"
      ],
      "execution_count": 0,
      "outputs": []
    },
    {
      "metadata": {
        "id": "R17iUHV9MVn-",
        "colab_type": "code",
        "colab": {}
      },
      "cell_type": "code",
      "source": [
        "!python train.py"
      ],
      "execution_count": 0,
      "outputs": []
    },
    {
      "metadata": {
        "id": "dj5_Cn-yM4uw",
        "colab_type": "code",
        "colab": {}
      },
      "cell_type": "code",
      "source": [
        ""
      ],
      "execution_count": 0,
      "outputs": []
    }
  ]
}